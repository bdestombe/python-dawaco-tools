{
 "cells": [
  {
   "cell_type": "markdown",
   "metadata": {},
   "source": [
    "<figure>\n",
    "  <IMG SRC=\"https://raw.githubusercontent.com/mbakker7/exploratory_computing_with_python/master/tudelft_logo.png\" WIDTH=250 ALIGN=\"right\">\n",
    "</figure>\n",
    "\n",
    "# Exploratory Computing with Python\n",
    "*Developed by Mark Bakker*"
   ]
  },
  {
   "cell_type": "markdown",
   "metadata": {},
   "source": [
    "## Notebook 3: `for` loops and `if/else` statements\n",
    "As we will again be using `numpy` and `matplotlib`, we start by importing them"
   ]
  },
  {
   "cell_type": "code",
   "execution_count": null,
   "metadata": {},
   "outputs": [],
   "source": [
    "%matplotlib inline\n",
    "import matplotlib.pyplot as plt\n",
    "import numpy as np"
   ]
  },
  {
   "cell_type": "markdown",
   "metadata": {},
   "source": [
    "### The `for` loop\n",
    "Loops are used to execute a command repeatedly. The syntax for a loop is as follows"
   ]
  },
  {
   "cell_type": "code",
   "execution_count": null,
   "metadata": {},
   "outputs": [],
   "source": [
    "for i in [0, 1, 2, 3, 4]:\n",
    "    print(\"Hello world, the value of i is\", i)"
   ]
  },
  {
   "cell_type": "markdown",
   "metadata": {},
   "source": [
    "In the code above, the variable `i` loops through the five values in the list `[0, 1, 2, 3, 4]`. The first time through, the value of `i` is equal to `0`, the second time through, its value is `1`, and so on till the last time when its value is `4`. Note the syntax of a `for` loop: At the end of the `for` statement you need to put a colon (`:`) and after that you need to indent. It doesn't matter how many spaces you indent, as long as you keep using the same number of spaces for the entire `for` loop. Jupyter Notebooks automatically indent 4 spaces, which is considered good Python style, so use that. You can have as many lines of code inside the `for` loop as you want. To end the `for` loop, simply stop indenting. "
   ]
  },
  {
   "cell_type": "code",
   "execution_count": null,
   "metadata": {},
   "outputs": [],
   "source": [
    "for x in [0, 1, 2, 3]:\n",
    "    xsquared = x**2\n",
    "    print(\"x, xsquare\", x, xsquared)\n",
    "print(\"We are done with the loop\")"
   ]
  },
  {
   "cell_type": "markdown",
   "metadata": {},
   "source": [
    "The list of values to loop through can be anything. It doesn't even have to be numbers. The `for` loop simply goes through all the values in the list one by one:"
   ]
  },
  {
   "cell_type": "code",
   "execution_count": null,
   "metadata": {},
   "outputs": [],
   "source": [
    "for data in [20, \"mark\", np.sqrt(10)]:\n",
    "    print(\"the value of data is:\", data)"
   ]
  },
  {
   "cell_type": "markdown",
   "metadata": {},
   "source": [
    "It is, of course, rather inconvenient to have to specify a list to loop through when the list is very long. For example, if you want to do something 100 times, you don't want to type a list of values from 0 up to 100. But Python has a convenient function for that called `range`. You can loop through a `range` just like you can loop through a list. To loop 10 times, starting with the value `0`:"
   ]
  },
  {
   "cell_type": "code",
   "execution_count": null,
   "metadata": {},
   "outputs": [],
   "source": [
    "for i in range(10):\n",
    "    print(\"the value of i is:\", i)"
   ]
  },
  {
   "cell_type": "markdown",
   "metadata": {},
   "source": [
    "A `range` can be converted to a list with the `list` function (but we will not use that option very often). You can call `range` with just one argument, in which case it will generate a range from 0 up to but not including the specified number. Note that `range(10)` produces 10 numbers from 0 up to and including 9. You can optionally give a starting value and a step, similar to the `np.arange` function."
   ]
  },
  {
   "cell_type": "code",
   "execution_count": null,
   "metadata": {},
   "outputs": [],
   "source": [
    "print(\"a range with 10 values:\", list(range(10)))\n",
    "print(\"a range from 10 till 20\", list(range(10, 20)))\n",
    "print(\"a range from 10 till 20 with steps of 2:\", list(range(10, 20, 2)))"
   ]
  },
  {
   "cell_type": "markdown",
   "metadata": {},
   "source": [
    "A loop can be used to fill an array. Let's compute $y=\\cos(x)$ where $x$ is an array that varies from 0 to $2\\pi$ with 100 points. We already know, of course, that this can be done with the statement `y = np.cos(x)`. Sometimes this is not possible, however, and we need to fill an array with a loop. First we have to create the array `y` (for example filled with zeros using the `zeros_like` function) and then fill it with the correct values by looping through all values of `x`, so that the index goes from `0` to the length of the `x` array. The counter in the loop (the variable `i` in the code below) is used as the index of the array that is filled."
   ]
  },
  {
   "cell_type": "code",
   "execution_count": null,
   "metadata": {},
   "outputs": [],
   "source": [
    "x = np.linspace(0, 2 * np.pi, 100)\n",
    "y = np.zeros_like(x)  # similar to zeros(shape(x))\n",
    "for i in range(len(x)):\n",
    "    y[i] = np.cos(x[i])\n",
    "plt.plot(x, y);"
   ]
  },
  {
   "cell_type": "markdown",
   "metadata": {},
   "source": [
    "Loops are very useful constructs in a programming script. Whenever you need to do a computation multiple times you should automatically think: *loop!*. "
   ]
  },
  {
   "cell_type": "markdown",
   "metadata": {},
   "source": [
    "### Exercise 1.  <a name=\"back1\"></a>First `for` loop\n",
    "Create a list with the names of the months. Create a second list with the number of days in each month (for a regular year). Create a `for` loop that prints:\n",
    "\n",
    "`The number of days in MONTH is XX days`\n",
    "\n",
    "where, of course, you print the correct name of the month for `MONTH` and the correct number of days for `XX`. Use f-strings."
   ]
  },
  {
   "cell_type": "code",
   "execution_count": null,
   "metadata": {},
   "outputs": [],
   "source": []
  },
  {
   "cell_type": "markdown",
   "metadata": {},
   "source": [
    "<a href=\"#ex1answer\">Answer for Exercise 1</a>"
   ]
  },
  {
   "cell_type": "markdown",
   "metadata": {},
   "source": [
    "### The `if` statement\n",
    "An `if` statement lets you perform a task only when the outcome of the `if` statement is true. For example"
   ]
  },
  {
   "cell_type": "code",
   "execution_count": null,
   "metadata": {},
   "outputs": [],
   "source": [
    "data = 4\n",
    "print(\"starting value:\", data)\n",
    "if data < 6:\n",
    "    print(\"changing data in the first if-statement\")\n",
    "    data = data + 2\n",
    "print(\"value after the first if-statement:\", data)\n",
    "if data > 20:\n",
    "    print(\"changing data in the second if-statement\")\n",
    "    data = 200\n",
    "print(\"value after the second if-statement:\", data)  # data hasn't changed as data is not larger than 20"
   ]
  },
  {
   "cell_type": "markdown",
   "metadata": {},
   "source": [
    "Note the syntax of the `if` statement: It starts with `if` followed by a statement that is either `True` or `False` and then a colon. After the colon, you need to indent and the entire indented code block (in this case 2 lines of code) is executed if the statement is `True`. The `if` statement is completed when you stop indenting. Recall from Notebook 2 that you can use larger than `>`, larger than or equal `>=`, equal `==`, smaller than or equal `<=`, smaller than `<` or not equal `!=`."
   ]
  },
  {
   "cell_type": "markdown",
   "metadata": {},
   "source": [
    "### The `if`/`else` statement\n",
    "The `if` statement may be followed by an `else` statement, which is executed when the condition after `if` is `False`. For example"
   ]
  },
  {
   "cell_type": "code",
   "execution_count": null,
   "metadata": {},
   "outputs": [],
   "source": [
    "a = 4\n",
    "if a < 3:\n",
    "    print(\"a is smaller than 3\")\n",
    "else:\n",
    "    print(\"a is not smaller than 3\")"
   ]
  },
  {
   "cell_type": "markdown",
   "metadata": {},
   "source": [
    "You can even extend the `else` by adding one or more conditions with the `elif` command which is short for 'else if'"
   ]
  },
  {
   "cell_type": "code",
   "execution_count": null,
   "metadata": {},
   "outputs": [],
   "source": [
    "a = 4\n",
    "if a < 4:\n",
    "    print(\"a is smaller than 4\")\n",
    "elif a > 4:\n",
    "    print(\"a is larger than 4\")\n",
    "else:\n",
    "    print(\"a is equal to 4\")"
   ]
  },
  {
   "cell_type": "markdown",
   "metadata": {},
   "source": [
    "Rather than specifying the value of a variable at the top of the code cell, you can ask the user to enter a value and store that value in the variable using the `input` function. The `input` function returns a string that can be converted into a number with the `float` function. Run the code cell below and test that it works when the entered value is larger than 4, smaller than 4, or equal to 4."
   ]
  },
  {
   "cell_type": "code",
   "execution_count": null,
   "metadata": {},
   "outputs": [],
   "source": [
    "for i in range(3):  # do this 3 times\n",
    "    a = float(input(\"Enter a value: \"))\n",
    "    if a < 4:\n",
    "        print(\"the entered value is smaller than 4\")\n",
    "    elif a > 4:\n",
    "        print(\"the entered value is larger than 4\")\n",
    "    else:\n",
    "        print(\"the entered value is equal to 4\")"
   ]
  },
  {
   "cell_type": "markdown",
   "metadata": {},
   "source": [
    "### Nested loops\n",
    "It is also possible to have loops inside loops. These are called nested loops. For example, consider the array `data` with 3 rows and 4 columns shown below. We want to compute the sum of the values in each row (so we sum the columns) and we are going to do this using a double loop. First, we make an array of zeros called `rowtotal` of length 3 (one value for each row of the array `data`). Next, we loop through each row. For each row inside the loop, we start another loop that goes through all the columns and adds the value to the array `rowtotal` for that row."
   ]
  },
  {
   "cell_type": "code",
   "execution_count": null,
   "metadata": {},
   "outputs": [],
   "source": [
    "data = np.array([[1, 2, 3, 5], [4, 8, 6, 4], [3, 5, 4, 6]])\n",
    "rowtotal = np.zeros(3)\n",
    "for irow in range(3):\n",
    "    for jcol in range(4):\n",
    "        rowtotal[irow] += data[irow, jcol]\n",
    "        # longer alternative:\n",
    "        # rowtotal[irow] = rowtotal[irow] + data[irow, jcol]\n",
    "print(rowtotal)"
   ]
  },
  {
   "cell_type": "markdown",
   "metadata": {},
   "source": [
    "After running the code above, first make sure that the answer is correct. Next, note that it is important to set the values of `rowtotal` to 0 before starting the loops, as we add to these values to compute the sum of each row. In the code, we use two loops, so we indented twice. \n",
    "\n",
    "`numpy` has a `sum` function that can compute the sum of an entire array, or the sum along one of the axes (for example along the rows or columns) by specifying the `axis` keyword. "
   ]
  },
  {
   "cell_type": "code",
   "execution_count": null,
   "metadata": {},
   "outputs": [],
   "source": [
    "print(\"sum of entire array:\", np.sum(data))\n",
    "print(\"sum rows (axis=0):\", np.sum(data, axis=0))\n",
    "print(\"sum columns (axis=1):\", np.sum(data, axis=1))"
   ]
  },
  {
   "cell_type": "markdown",
   "metadata": {},
   "source": [
    "### Answers to the exercises"
   ]
  },
  {
   "cell_type": "markdown",
   "metadata": {},
   "source": [
    "<a name=\"ex1answer\">Answer to Exercise 1</a>"
   ]
  },
  {
   "cell_type": "code",
   "execution_count": null,
   "metadata": {},
   "outputs": [],
   "source": [
    "months = [\n",
    "    \"January\",\n",
    "    \"February\",\n",
    "    \"March\",\n",
    "    \"April\",\n",
    "    \"May\",\n",
    "    \"June\",\n",
    "    \"July\",\n",
    "    \"August\",\n",
    "    \"September\",\n",
    "    \"October\",\n",
    "    \"November\",\n",
    "    \"December\",\n",
    "]\n",
    "days = [31, 28, 31, 30, 31, 30, 31, 31, 30, 31, 30, 31]\n",
    "for i in range(12):\n",
    "    print(f\"The number of days in {months[i]} is {days[i]}\")"
   ]
  },
  {
   "cell_type": "markdown",
   "metadata": {},
   "source": [
    "<a href=\"#back1\">Back to Exercise 1</a>\n",
    "\n",
    "<a name=\"ex2answer\">Answer to Exercise 2</a>"
   ]
  },
  {
   "cell_type": "code",
   "execution_count": null,
   "metadata": {},
   "outputs": [],
   "source": [
    "x = np.linspace(-2 * np.pi, 2 * np.pi, 100)\n",
    "y = np.zeros_like(x)\n",
    "for i in range(100):\n",
    "    if x[i] < 0:\n",
    "        y[i] = np.cos(x[i])\n",
    "    else:\n",
    "        y[i] = np.exp(-x[i])\n",
    "plt.plot(x, y)\n",
    "plt.xlim(-2 * np.pi, 2 * np.pi);"
   ]
  },
  {
   "cell_type": "markdown",
   "metadata": {},
   "source": [
    "<a href=\"#back2\">Back to Exercise 2</a>\n",
    "\n",
    "<a name=\"ex3answer\">Answer to Exercise 3</a>"
   ]
  },
  {
   "cell_type": "code",
   "execution_count": null,
   "metadata": {},
   "outputs": [],
   "source": [
    "temperature = np.loadtxt(\"holland_temperature.dat\")\n",
    "for i in range(len(temperature)):\n",
    "    if temperature[i] < 10:\n",
    "        print(\"average monthly temperature in month \", i + 1, \" is less than 10 degrees\")\n",
    "    else:\n",
    "        print(\"average monthly temperature in month \", i + 1, \" is more than 10 degrees\")"
   ]
  },
  {
   "cell_type": "markdown",
   "metadata": {},
   "source": [
    "<a href=\"#back3\">Back to Exercise 3</a>\n",
    "\n",
    "<a name=\"ex4answer\">Answer to Exercise 4</a>"
   ]
  },
  {
   "cell_type": "code",
   "execution_count": null,
   "metadata": {},
   "outputs": [],
   "source": [
    "data = np.array([1, 3, 2, 5, 7, 3, 4, 2])\n",
    "runningtotal = np.zeros_like(data)\n",
    "runningtotal[0] = data[0]\n",
    "for i in range(1, len(data)):\n",
    "    runningtotal[i] = runningtotal[i - 1] + data[i]\n",
    "print(\"data values:\", data)\n",
    "print(\"running total:\", runningtotal)\n",
    "print(\"running total with numpy:\", np.cumsum(data))"
   ]
  },
  {
   "cell_type": "markdown",
   "metadata": {},
   "source": [
    "<a href=\"#back4\">Back to Exercise 4</a>\n",
    "\n",
    "<a name=\"ex5answer\">Answer to Exercise 5</a>"
   ]
  },
  {
   "cell_type": "code",
   "execution_count": null,
   "metadata": {},
   "outputs": [],
   "source": [
    "temperature = np.loadtxt(\"holland_temperature.dat\")\n",
    "print(temperature)\n",
    "monthindex = -1\n",
    "tdiff = 100.0\n",
    "for i in range(12):\n",
    "    if abs(temperature[i] - 15) < tdiff:\n",
    "        monthindex = i\n",
    "        tdiff = abs(temperature[i] - 15)\n",
    "print(\"Number of month closest to 15 degrees, temp: \", monthindex + 1, temperature[monthindex])\n",
    "print(\"Alternative method:\")\n",
    "altmin = np.argmin(abs(temperature - 15))\n",
    "print(\"Number of month closest to 15 degrees, temp: \", altmin + 1, temperature[altmin])"
   ]
  },
  {
   "cell_type": "markdown",
   "metadata": {},
   "source": [
    "<a href=\"#back5\">Back to Exercise 5</a>\n",
    "\n",
    "<a name=\"ex6answer\">Answer to Exercise 6</a>"
   ]
  },
  {
   "cell_type": "code",
   "execution_count": null,
   "metadata": {},
   "outputs": [],
   "source": [
    "oilprice = np.loadtxt(\"oil_price_monthly.dat\", delimiter=\",\")\n",
    "plt.plot(oilprice[:, 2], \"b-\")\n",
    "nrow, ncol = oilprice.shape\n",
    "months = [\n",
    "    \"January\",\n",
    "    \"February\",\n",
    "    \"March\",\n",
    "    \"April\",\n",
    "    \"May\",\n",
    "    \"June\",\n",
    "    \"July\",\n",
    "    \"August\",\n",
    "    \"September\",\n",
    "    \"October\",\n",
    "    \"November\",\n",
    "    \"December\",\n",
    "]\n",
    "for price in [40, 60, 80]:\n",
    "    for i in range(nrow):\n",
    "        if oilprice[i, 2] > price:\n",
    "            print(\n",
    "                f\"The oil price exceeds {price} euros for the first time in\",\n",
    "                f\"{months[int(oilprice[i, 1])]} of {oilprice[i, 0]:.0f}\",\n",
    "            )\n",
    "            break"
   ]
  },
  {
   "cell_type": "markdown",
   "metadata": {},
   "source": [
    "<a href=\"#back6\">Back to Exercise 6</a>\n",
    "\n",
    "<a name=\"ex7answer\">Answer to Exercise 7</a>"
   ]
  },
  {
   "cell_type": "code",
   "execution_count": null,
   "metadata": {},
   "outputs": [],
   "source": [
    "x = [\"Aaldrich\", \"Babette\", \"Chris\", \"Franka\", \"Joe\", \"Louisa\", \"Pierre\", \"Simone\", \"Tarek\", \"Yvonne\", \"Zu\"]\n",
    "myname = \"Guido\"\n",
    "for i in range(len(x)):\n",
    "    if myname < x[i]:\n",
    "        break\n",
    "print(myname, \"is between\", x[i - 1], \"and\", x[i])"
   ]
  },
  {
   "cell_type": "markdown",
   "metadata": {},
   "source": [
    "<a href=\"#back7\">Back to Exercise 7</a>"
   ]
  }
 ],
 "metadata": {
  "kernelspec": {
   "display_name": "Python 3 (ipykernel)",
   "language": "python",
   "name": "python3"
  },
  "language_info": {
   "codemirror_mode": {
    "name": "ipython",
    "version": 3
   },
   "file_extension": ".py",
   "mimetype": "text/x-python",
   "name": "python",
   "nbconvert_exporter": "python",
   "pygments_lexer": "ipython3",
   "version": "3.9.6"
  },
  "latex_envs": {
   "LaTeX_envs_menu_present": true,
   "autoclose": false,
   "autocomplete": true,
   "bibliofile": "biblio.bib",
   "cite_by": "apalike",
   "current_citInitial": 1,
   "eqLabelWithNumbers": true,
   "eqNumInitial": 1,
   "hotkeys": {
    "equation": "Ctrl-E",
    "itemize": "Ctrl-I"
   },
   "labels_anchors": false,
   "latex_user_defs": false,
   "report_style_numbering": false,
   "user_envs_cfg": false
  },
  "varInspector": {
   "cols": {
    "lenName": 16,
    "lenType": 16,
    "lenVar": 40
   },
   "kernels_config": {
    "python": {
     "delete_cmd_postfix": "",
     "delete_cmd_prefix": "del ",
     "library": "var_list.py",
     "varRefreshCmd": "print(var_dic_list())"
    },
    "r": {
     "delete_cmd_postfix": ") ",
     "delete_cmd_prefix": "rm(",
     "library": "var_list.r",
     "varRefreshCmd": "cat(var_dic_list()) "
    }
   },
   "types_to_exclude": [
    "module",
    "function",
    "builtin_function_or_method",
    "instance",
    "_Feature"
   ],
   "window_display": false
  }
 },
 "nbformat": 4,
 "nbformat_minor": 4
}
