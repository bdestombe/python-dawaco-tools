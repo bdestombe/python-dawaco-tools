{
 "cells": [
  {
   "cell_type": "markdown",
   "id": "35b39b66-8318-4545-800d-b5cb9b0e28f4",
   "metadata": {},
   "source": [
    "# Putinformatie opvragen"
   ]
  },
  {
   "cell_type": "code",
   "execution_count": null,
   "id": "de84d3ea-72c9-4c1e-9cb4-54328151f833",
   "metadata": {},
   "outputs": [],
   "source": [
    "from dawacotools.io import (\n",
    "    get_daw_mps,\n",
    ")  # get_daw -> haal iets op uit de dawaco database. mp -> monsterpunt/meetpunt. s -> meervoud"
   ]
  },
  {
   "cell_type": "markdown",
   "id": "985f6da8-a44e-424a-8323-eebc3f5e3362",
   "metadata": {},
   "source": [
    "Probeer de volgende manieren om de functie aan te roepen en geef antwoord op de vragen:\n",
    "\n",
    "Hoeveel putten staan er in de database?\n",
    "\n",
    "```mps = dt.get_daw_mps()```\n",
    "\n",
    "Hoeveel putten staan er in de database met putcode \"09BZW012\"?\n",
    "\n",
    "```mps = dt.get_daw_mps(mpcode=\"09BZW012\")```\n",
    "\n",
    "Hoeveel putten staan er in de database waarvan de putcode begint met \"09BZW01\"?\n",
    "\n",
    "```mps = dt.get_daw_mps(mpcode=\"09BZW01\", partial_match_mpcode=True)```\n",
    "\n",
    "Vraag de informatie van \"09BZW012\" en \"09BZW013\" tegelijkertijd op\n",
    "\n",
    "```mps = dt.get_daw_mps(mpcode=[\"09BZW012\", \"09BZW013\"])```"
   ]
  },
  {
   "cell_type": "code",
   "execution_count": null,
   "id": "67a4db7f-700a-4d9e-8df3-63146138e3f0",
   "metadata": {},
   "outputs": [],
   "source": []
  },
  {
   "cell_type": "markdown",
   "id": "88d1d3d4-e064-41b0-ab5f-2ea7de89ddf3",
   "metadata": {},
   "source": [
    "# Filterinformatie opvragen"
   ]
  },
  {
   "cell_type": "code",
   "execution_count": null,
   "id": "856d8921-c7ed-4688-9b3d-8f57fa02ca96",
   "metadata": {},
   "outputs": [],
   "source": [
    "from dawacotools.io import (\n",
    "    get_daw_filters,\n",
    ")  # get_daw -> haal iets op uit de dawaco database. mp -> monsterpunt/meetpunt. s -> meervoud"
   ]
  },
  {
   "cell_type": "markdown",
   "id": "c09a5329-1131-4f32-afab-6cfa02d870ad",
   "metadata": {},
   "source": [
    "Haal informatie op van filter 1 van 09BZW012. 0 Zou pomp put moeten zijn en 1 het eerste observatiefilter\n",
    "\n",
    "```filters = dt.get_daw_filters(mpcode=\"09BZW012\", filternr=1)```\n",
    "\n",
    "Haal informatie op van filter 1 en 2 van 09BZW012.\n",
    "\n",
    "```filters = dt.get_daw_filters(mpcode=\"09BZW012\", filternr=[1.0, 2.0])```\n",
    "\n",
    "Haal informatie op van alle filter van 09BZW012.\n",
    "\n",
    "```filters = dt.get_daw_filters(mpcode=\"09BZW012\")```"
   ]
  },
  {
   "cell_type": "code",
   "execution_count": null,
   "id": "4e401c49-a917-49ca-a485-2771d48c8b29",
   "metadata": {},
   "outputs": [],
   "source": []
  },
  {
   "cell_type": "markdown",
   "id": "0846c902-0f3d-43ab-876b-b010f3655a19",
   "metadata": {},
   "source": [
    "# Grondwaterstanden opvragen\n",
    "\n",
    "- Haal grondwaterstanden op van 19CNL5389F1 en 19CNL5390F1\n",
    "- Plot beiden in 1 plaatje"
   ]
  },
  {
   "cell_type": "code",
   "execution_count": null,
   "id": "e5a4e253-a84c-43dc-af3c-2a327dbe7f5d",
   "metadata": {},
   "outputs": [],
   "source": [
    "from dawacotools.io import get_daw_ts_stijghgt  # ts -> timeseries."
   ]
  },
  {
   "cell_type": "markdown",
   "id": "76f79778-91c0-4f55-b48b-0a328e174a0e",
   "metadata": {},
   "source": [
    "# Bereken het verhang van de grondwaterstand tussen 19CNL5389F1 en 19CNL5390F1 ($\\Delta$h / $\\Delta$x)\n",
    "\n",
    "Tip: Coordinaten staan in de putinformatie als Xcoord en Ycoord"
   ]
  },
  {
   "cell_type": "code",
   "execution_count": null,
   "id": "1b3587ef-136e-4b6f-bcb1-dd136c5d10b8",
   "metadata": {},
   "outputs": [],
   "source": []
  },
  {
   "cell_type": "markdown",
   "id": "8c86b9b1-b45b-49df-8b44-fcad996c9682",
   "metadata": {},
   "source": [
    "# Bereken het specifiek debiet (q) gegeven een hydraulische conductiviteit (K) van 15 m/dag\n",
    "\n",
    "Tip: $q$(m/dag) = K(m/dag) * $\\Delta$h (m)/ $\\Delta$x (m)"
   ]
  },
  {
   "cell_type": "code",
   "execution_count": null,
   "id": "674b82ae-2d55-407f-850c-78056ae0a4ee",
   "metadata": {},
   "outputs": [],
   "source": []
  },
  {
   "cell_type": "markdown",
   "id": "2c275cd7-7fc6-41d6-9840-dd2ebaaebf39",
   "metadata": {},
   "source": [
    "# Exporteer gemiddelde grondwaterstand van 19CNL5389F1 en 19CNL5390F1 naar geopackage/geojson/shape file\n",
    "\n",
    "\n",
    "Tip 1: Sla de gemiddelde gws op als kolom in het filters dataframe\n",
    "Tip 2: filters.to_file(\"output.gpkg\", driver=\"GPKG\") of filters.to_file(\"output.json\", driver=\"GeoJSON\")"
   ]
  },
  {
   "cell_type": "code",
   "execution_count": null,
   "id": "69c9a0eb-603b-4cab-8568-dc567441c750",
   "metadata": {},
   "outputs": [],
   "source": []
  }
 ],
 "metadata": {
  "kernelspec": {
   "display_name": "Python 3 (ipykernel)",
   "language": "python",
   "name": "python3"
  },
  "language_info": {
   "codemirror_mode": {
    "name": "ipython",
    "version": 3
   },
   "file_extension": ".py",
   "mimetype": "text/x-python",
   "name": "python",
   "nbconvert_exporter": "python",
   "pygments_lexer": "ipython3",
   "version": "3.9.6"
  }
 },
 "nbformat": 4,
 "nbformat_minor": 5
}
